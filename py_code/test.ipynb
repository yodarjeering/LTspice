{
 "cells": [
  {
   "cell_type": "code",
   "execution_count": 34,
   "metadata": {},
   "outputs": [
    {
     "name": "stdout",
     "output_type": "stream",
     "text": [
      "Available Traces: ['time', 'V(n002)', 'V(n003)', 'V(vcc)', 'I(C1)', 'I(L1)', 'I(V_vcc)']\n"
     ]
    },
    {
     "ename": "IndexError",
     "evalue": "<spicelib.raw.raw_read.RawRead object at 0x0000019885544AA0> doesn't contain trace \"V(n001)\"\nValid traces are ['time', 'V(n002)', 'V(n003)', 'V(vcc)', 'I(C1)', 'I(L1)', 'I(V_vcc)']",
     "output_type": "error",
     "traceback": [
      "\u001b[1;31m---------------------------------------------------------------------------\u001b[0m",
      "\u001b[1;31mIndexError\u001b[0m                                Traceback (most recent call last)",
      "Cell \u001b[1;32mIn[34], line 21\u001b[0m\n\u001b[0;32m     19\u001b[0m \u001b[38;5;28;01mfor\u001b[39;00m name \u001b[38;5;129;01min\u001b[39;00m[\u001b[38;5;124m'\u001b[39m\u001b[38;5;124mtime\u001b[39m\u001b[38;5;124m'\u001b[39m, \u001b[38;5;124m'\u001b[39m\u001b[38;5;124mV(n001)\u001b[39m\u001b[38;5;124m'\u001b[39m, \u001b[38;5;124m'\u001b[39m\u001b[38;5;124mV(n002)\u001b[39m\u001b[38;5;124m'\u001b[39m, \u001b[38;5;124m'\u001b[39m\u001b[38;5;124mV(n003)\u001b[39m\u001b[38;5;124m'\u001b[39m]:\n\u001b[0;32m     20\u001b[0m     \u001b[38;5;28;01mif\u001b[39;00m name\u001b[38;5;241m.\u001b[39mlower() \u001b[38;5;241m!=\u001b[39m \u001b[38;5;124m'\u001b[39m\u001b[38;5;124mtime\u001b[39m\u001b[38;5;124m'\u001b[39m:\n\u001b[1;32m---> 21\u001b[0m         signal \u001b[38;5;241m=\u001b[39m \u001b[43mltr\u001b[49m\u001b[38;5;241;43m.\u001b[39;49m\u001b[43mget_trace\u001b[49m\u001b[43m(\u001b[49m\u001b[43mname\u001b[49m\u001b[43m)\u001b[49m\u001b[38;5;241m.\u001b[39mget_wave(\u001b[38;5;241m0\u001b[39m)\n\u001b[0;32m     22\u001b[0m         plt\u001b[38;5;241m.\u001b[39mplot(time, signal, label\u001b[38;5;241m=\u001b[39mname)\n\u001b[0;32m     24\u001b[0m \u001b[38;5;66;03m# ▼ グラフ表示\u001b[39;00m\n",
      "File \u001b[1;32mc:\\Users\\Owner\\AppData\\Local\\Programs\\Python\\Python312\\Lib\\site-packages\\spicelib\\raw\\raw_read.py:783\u001b[0m, in \u001b[0;36mRawRead.get_trace\u001b[1;34m(self, trace_ref)\u001b[0m\n\u001b[0;32m    781\u001b[0m         \u001b[38;5;28;01mif\u001b[39;00m trace_ref\u001b[38;5;241m.\u001b[39mcasefold() \u001b[38;5;241m==\u001b[39m alias\u001b[38;5;241m.\u001b[39mcasefold():\n\u001b[0;32m    782\u001b[0m             \u001b[38;5;28;01mreturn\u001b[39;00m \u001b[38;5;28mself\u001b[39m\u001b[38;5;241m.\u001b[39m_compute_alias(alias)\n\u001b[1;32m--> 783\u001b[0m     \u001b[38;5;28;01mraise\u001b[39;00m \u001b[38;5;167;01mIndexError\u001b[39;00m(\u001b[38;5;124mf\u001b[39m\u001b[38;5;124m\"\u001b[39m\u001b[38;5;132;01m{\u001b[39;00m\u001b[38;5;28mself\u001b[39m\u001b[38;5;132;01m}\u001b[39;00m\u001b[38;5;124m doesn\u001b[39m\u001b[38;5;124m'\u001b[39m\u001b[38;5;124mt contain trace \u001b[39m\u001b[38;5;130;01m\\\"\u001b[39;00m\u001b[38;5;132;01m{\u001b[39;00mtrace_ref\u001b[38;5;132;01m}\u001b[39;00m\u001b[38;5;130;01m\\\"\u001b[39;00m\u001b[38;5;130;01m\\n\u001b[39;00m\u001b[38;5;124m\"\u001b[39m\n\u001b[0;32m    784\u001b[0m                      \u001b[38;5;124mf\u001b[39m\u001b[38;5;124m\"\u001b[39m\u001b[38;5;124mValid traces are \u001b[39m\u001b[38;5;132;01m{\u001b[39;00m[trc\u001b[38;5;241m.\u001b[39mname\u001b[38;5;250m \u001b[39m\u001b[38;5;28;01mfor\u001b[39;00m\u001b[38;5;250m \u001b[39mtrc\u001b[38;5;250m \u001b[39m\u001b[38;5;129;01min\u001b[39;00m\u001b[38;5;250m \u001b[39m\u001b[38;5;28mself\u001b[39m\u001b[38;5;241m.\u001b[39m_traces]\u001b[38;5;132;01m}\u001b[39;00m\u001b[38;5;124m\"\u001b[39m)\n\u001b[0;32m    785\u001b[0m \u001b[38;5;28;01melse\u001b[39;00m:\n\u001b[0;32m    786\u001b[0m     \u001b[38;5;28;01mreturn\u001b[39;00m \u001b[38;5;28mself\u001b[39m\u001b[38;5;241m.\u001b[39m_traces[trace_ref]\n",
      "\u001b[1;31mIndexError\u001b[0m: <spicelib.raw.raw_read.RawRead object at 0x0000019885544AA0> doesn't contain trace \"V(n001)\"\nValid traces are ['time', 'V(n002)', 'V(n003)', 'V(vcc)', 'I(C1)', 'I(L1)', 'I(V_vcc)']"
     ]
    }
   ],
   "source": [
    "from PyLTSpice import RawRead\n",
    "import matplotlib.pyplot as plt\n",
    "\n",
    "# ▼ 読み込む .raw zファイルのパス（自分の環境に合わせて指定）\n",
    "raw_file = \"output_file.raw\"\n",
    "\n",
    "# ▼ PyLTSpiceで .raw ファイルを読み込む\n",
    "ltr = RawRead(raw_file)\n",
    "\n",
    "# ▼ 利用可能なトレース（波形）名を確認\n",
    "trace_names = ltr.get_trace_names() # 例) ['time', 'V(n001)', 'V(n002)', 'V(n003)', 'I(C1)', 'I(L1)', 'I(R1)', 'I(V1)']\n",
    "print(\"Available Traces:\", trace_names)\n",
    "\n",
    "# ▼ 時間軸データを取得\n",
    "time = ltr.get_trace('time').get_wave(0)\n",
    "\n",
    "# ▼ 最初の信号（time以外）をプロットする例\n",
    "# for name in trace_names:_\n",
    "for name in['time', 'V(n001)', 'V(n002)', 'V(n003)']:\n",
    "    if name.lower() != 'time':\n",
    "        signal = ltr.get_trace(name).get_wave(0)\n",
    "        plt.plot(time, signal, label=name)\n",
    "\n",
    "# ▼ グラフ表示\n",
    "plt.title(\"LTspice Simulation Output\")\n",
    "plt.xlabel(\"Time [s]\")\n",
    "plt.ylabel(\"Signal Value\")\n",
    "plt.legend()\n",
    "plt.grid(True)\n",
    "plt.tight_layout()\n",
    "plt.show()\n"
   ]
  },
  {
   "cell_type": "markdown",
   "metadata": {},
   "source": [
    "netファイルからLTcpice.netに変換"
   ]
  },
  {
   "cell_type": "code",
   "execution_count": 31,
   "metadata": {},
   "outputs": [],
   "source": [
    "from collections import defaultdict\n",
    "import re\n",
    "\n",
    "def convert_net_to_ltspice(input_lines):\n",
    "    # 部品ごとの {ピン番号: ノード名} マップ\n",
    "    component_pins = defaultdict(dict)\n",
    "    node_to_pins = defaultdict(list)  # ノードに接続しているピン情報\n",
    "\n",
    "    for line in input_lines:\n",
    "        if not line.startswith('$') or ';' not in line:\n",
    "            continue\n",
    "        node_part, pin_list = line.strip()[1:].split(';', 1) \n",
    "        # print(f'node_part:{node_part},pin_list:{pin_list}') # ----------> node_part:N002,pin_list:R1^2,L1^1\n",
    "        for entry in pin_list.split(','): \n",
    "            # print(f'entry:{entry}') # ----------> entry:R1^2\n",
    "            if '^' in entry:\n",
    "                comp, pin = entry.strip().split('^')\n",
    "                component_pins[comp][pin] = node_part\n",
    "                node_to_pins[node_part].append((comp, pin))  \n",
    "                # print(f'comp:{comp},pin:{pin}') # ----------> comp:R1,pin:2\n",
    "    # ソートしてLTspice形式へ変換\n",
    "    result_lines = []\n",
    "    voltage_sources = set()\n",
    "    \n",
    "    for comp, pin_map in component_pins.items():\n",
    "        # ピン番号でソートし、対応するノードを取得\n",
    "        # \"GND\"を含む場合は \"0\" に変換\n",
    "        def format_node(node):\n",
    "            if 'GND' in node.upper():\n",
    "                return '0'\n",
    "            elif re.fullmatch(r'/d+', node):\n",
    "                return f\"N{node}\"\n",
    "            else:\n",
    "                return node\n",
    "        nodes = [format_node(pin_map[pin]) for pin in sorted(pin_map.keys(), key=lambda x: int(x))]\n",
    "        \n",
    "        # R, L, C の場合はダミー定数 '777' を追加\n",
    "        if comp[0].upper() in {'R', 'L', 'C'}:\n",
    "            result_lines.append(f\"{comp} {' '.join(nodes)} 777\")\n",
    "        else:\n",
    "            result_lines.append(f\"{comp} {' '.join(nodes)}\")\n",
    "\n",
    "    # 電圧源ノード検出：Vを含み、かつ部品として定義されていないノード名を対象にする\n",
    "    used_nodes = set(node_to_pins.keys())\n",
    "    used_components = set(component_pins.keys())\n",
    "    for node in used_nodes:\n",
    "        if 'V' in node.upper() and node not in used_components:\n",
    "            voltage_sources.add(node)\n",
    "\n",
    "    for v_node in voltage_sources:\n",
    "        result_lines.append(f\"V_{v_node} 0 {v_node} DC 5\")  # 仮電圧値\n",
    "\n",
    "    # 将来のディレクティブ検索用マーカー\n",
    "    result_lines.append(\"* .directive_placeholder\")\n",
    "    result_lines.append(\".backanno\")\n",
    "    result_lines.append(\".end\")\n",
    "\n",
    "    return result_lines\n"
   ]
  },
  {
   "cell_type": "code",
   "execution_count": 32,
   "metadata": {},
   "outputs": [
    {
     "name": "stdout",
     "output_type": "stream",
     "text": [
      "R1 VCC N002 777\n",
      "L1 N002 N003 777\n",
      "C1 0 N003 777\n",
      "V_VCC 0 VCC DC 5\n",
      "* .directive_placeholder\n",
      ".backanno\n",
      ".end\n"
     ]
    }
   ],
   "source": [
    "# 例: ファイル読み込みして処理\n",
    "with open(\"input_sample.net\", encoding=\"utf-8\") as f:\n",
    "    lines = f.readlines()\n",
    "\n",
    "ltspice_netlist = convert_net_to_ltspice(lines)\n",
    "\n",
    "# 出力例（確認用）\n",
    "for line in ltspice_netlist[:20]:\n",
    "    print(line)\n"
   ]
  },
  {
   "cell_type": "markdown",
   "metadata": {},
   "source": [
    ".netファイルとして出力"
   ]
  },
  {
   "cell_type": "code",
   "execution_count": 40,
   "metadata": {},
   "outputs": [
    {
     "name": "stdout",
     "output_type": "stream",
     "text": [
      "11\n"
     ]
    }
   ],
   "source": [
    "import os\n",
    "OUTPUT_DIR = \"C:/Users/Owner/Desktop/my_program/kyo-pro/40_LTspice/\"\n",
    "NET_FILE_PATH = \"C:\\Users\\Owner\\Desktop\\my_program\\kyo-pro\\40_LTspice\\py_code\\input_sample.net\"\n",
    "\n",
    "def main():\n",
    "\n",
    "    # 例: ファイル読み込みして処理\n",
    "    with open(NET_FILE_PATH, encoding=\"utf-8\") as f:\n",
    "        lines = f.readlines()\n",
    "\n",
    "    ltspice_netlist = convert_net_to_ltspice(lines)  # lines は入力ファイルの各行\n",
    "    os.makedirs(OUTPUT_DIR, exist_ok=True)  # すでに存在していてもエラーにならない\n",
    "\n",
    "    with open(os.path.join(OUTPUT_DIR, \"output_file.cir\"), \"w\", encoding=\"utf-8\") as f:\n",
    "        for line in ltspice_netlist:\n",
    "            f.write(line + \"/n\")\n",
    "    print(\"11\")\n",
    "\n",
    "if __name__ == \"__main__\":\n",
    "    main()\n"
   ]
  },
  {
   "cell_type": "code",
   "execution_count": null,
   "metadata": {},
   "outputs": [],
   "source": [
    "print(\"hello!\")\n",
    "for i in range(10):\n",
    "    print(f'this is {i}')\n",
    "    "
   ]
  }
 ],
 "metadata": {
  "kernelspec": {
   "display_name": "Python 3",
   "language": "python",
   "name": "python3"
  },
  "language_info": {
   "codemirror_mode": {
    "name": "ipython",
    "version": 3
   },
   "file_extension": ".py",
   "mimetype": "text/x-python",
   "name": "python",
   "nbconvert_exporter": "python",
   "pygments_lexer": "ipython3",
   "version": "3.12.4"
  }
 },
 "nbformat": 4,
 "nbformat_minor": 2
}
